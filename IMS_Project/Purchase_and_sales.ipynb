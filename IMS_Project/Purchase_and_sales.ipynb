{
  "nbformat": 4,
  "nbformat_minor": 0,
  "metadata": {
    "colab": {
      "name": "Purchase.ipynb",
      "provenance": []
    },
    "kernelspec": {
      "name": "python3",
      "display_name": "Python 3"
    },
    "language_info": {
      "name": "python"
    }
  },
  "cells": [
    {
      "cell_type": "code",
      "metadata": {
        "id": "aHJLKTPyJxQl"
      },
      "source": [
        "import json"
      ],
      "execution_count": 1,
      "outputs": []
    },
    {
      "cell_type": "markdown",
      "metadata": {
        "id": "ZKGawHZlqmlx"
      },
      "source": [
        "**Inventory is read from record.json**"
      ]
    },
    {
      "cell_type": "code",
      "metadata": {
        "id": "A7l7ekSHSyLU"
      },
      "source": [
        "fd = open(\"record.json\", 'r')\n",
        "r = fd.read()\n",
        "fd.close()"
      ],
      "execution_count": 2,
      "outputs": []
    },
    {
      "cell_type": "code",
      "metadata": {
        "id": "nzJK0tIZTKNB"
      },
      "source": [
        "record = json.loads(r)"
      ],
      "execution_count": 3,
      "outputs": []
    },
    {
      "cell_type": "markdown",
      "metadata": {
        "id": "hRG-WthRqvRL"
      },
      "source": [
        "**A new json file to store the list of the products purchased created**"
      ]
    },
    {
      "cell_type": "code",
      "metadata": {
        "id": "VWMxP9HLT9zQ"
      },
      "source": [
        "fd = open(\"sales.json\",'w')\n",
        "fd.close()"
      ],
      "execution_count": 4,
      "outputs": []
    },
    {
      "cell_type": "code",
      "metadata": {
        "id": "slolaQOBMYcQ"
      },
      "source": [
        "sold=0\n",
        "bn=1"
      ],
      "execution_count": 5,
      "outputs": []
    },
    {
      "cell_type": "markdown",
      "metadata": {
        "id": "L6inCC1Yq4zU"
      },
      "source": [
        "A dictionary record2 created\n"
      ]
    },
    {
      "cell_type": "code",
      "metadata": {
        "id": "VwnuXzsfVMnA"
      },
      "source": [
        "record2={}"
      ],
      "execution_count": 6,
      "outputs": []
    },
    {
      "cell_type": "code",
      "metadata": {
        "id": "-nDntZzaMk23"
      },
      "source": [
        "import pandas as pd"
      ],
      "execution_count": 7,
      "outputs": []
    },
    {
      "cell_type": "markdown",
      "metadata": {
        "id": "Jc7ptZHKMA6R"
      },
      "source": [
        "**Start running from this code for each new buyer**"
      ]
    },
    {
      "cell_type": "markdown",
      "metadata": {
        "id": "4fbYnzhyq-Ft"
      },
      "source": [
        "The products are listed. If the quantity of the product required by the buyer is available in the record, the details of the amount of products sold is updated in sales.json and the same quantity of the product is reduced from record.json."
      ]
    },
    {
      "cell_type": "code",
      "metadata": {
        "id": "iFIuF9jopdYr"
      },
      "source": [
        "total = 0"
      ],
      "execution_count": 19,
      "outputs": []
    },
    {
      "cell_type": "code",
      "metadata": {
        "id": "GhsIY5b8YXim"
      },
      "source": [
        "fd1 = open(\"sales.json\",'a')\n",
        "fd1.write(\"Bill of Buyer\"+str(bn)+\":\\n\\n\")\n",
        "fd1.close()"
      ],
      "execution_count": 20,
      "outputs": []
    },
    {
      "cell_type": "markdown",
      "metadata": {
        "id": "cEyS8XlWMoUK"
      },
      "source": [
        "**Purchase Products:**"
      ]
    },
    {
      "cell_type": "code",
      "metadata": {
        "colab": {
          "base_uri": "https://localhost:8080/"
        },
        "id": "qVZsRgjbTR0V",
        "outputId": "d2f0b2f9-04f9-40a1-c622-ab225654861d"
      },
      "source": [
        "print(\"The products are:\" )\n",
        "df = pd.DataFrame.from_dict(record, orient = 'index')\n",
        "print(df)\n",
        "\n",
        "product = input(\"\\nEnter the product you want to purchase: \")\n",
        "quantity = int(input(\"Enter the quantity of the product you want to purchase: \"))\n",
        "for key in record.keys():\n",
        "  if(record[key]['Product_name']==product):\n",
        "    id = key\n",
        "if(record[id]['Quantity']<quantity):\n",
        "  print(\"Sorry this product has been sold out :(\")\n",
        "else:\n",
        "  record[id]['Quantity'] -= quantity \n",
        "  price = record[id]['Our_Price']*quantity\n",
        "  tax= (record[id]['Tax_Percentage']/100)*price\n",
        "  net_amount = tax + price\n",
        "  total+=net_amount\n",
        "  record2 = {'Product': product, 'Quantity':quantity, 'MRP': record[id]['MRP']*quantity, 'Our Price': price, 'Taxes and Charges': tax, 'Net amount': net_amount   }\n",
        "  \n",
        "  js = json.dumps(record2)\n",
        "  js1 = json.dumps(record)\n",
        "  fd = open(\"record.json\",'w')\n",
        "  fd.write(js1)\n",
        "  fd.close()\n",
        "  fd1 = open(\"sales.json\",'a')\n",
        "  fd1.write(js+\"\\n\")\n",
        "  fd1.close()\n"
      ],
      "execution_count": 24,
      "outputs": [
        {
          "name": "stdout",
          "output_type": "stream",
          "text": [
            "The products are:\n",
            "            Product_name    MRP  Our_Price  Quantity  Tax_Percentage\n",
            "1000  Cadbury Dairy Milk   50.0       45.0        75               5\n",
            "1001               Towel  200.0      180.0        25               4\n",
            "1002         Tooth paste   40.0       36.0        50               5\n",
            "1003           Hand Wash   55.0       49.5        40               4\n",
            "1004               Bread   25.0       22.5        27               3\n",
            "1005        French Fries  250.0      225.0        20               7\n",
            "1006               Lassi   65.0       58.5        36               7\n",
            "1007             Vinegar   50.0       45.0        38               4\n",
            "1008          Pencil Box   90.0       81.0        34               4\n",
            "1009        Water Bottle   60.0       54.0        20               5\n",
            "1010             Almonds  105.0       94.5        43               6\n",
            "1011               Dates  230.0      207.0        41               5\n",
            "1012             Perfume  150.0      135.0        39               8\n",
            "1013               Kajal  200.0      180.0        42               8\n",
            "1014             Shampoo  200.0      180.0        35               9\n",
            "1015                Soap   30.0       27.0        38               5\n",
            "1016         Tooth Brush   40.0       36.0        54               7\n",
            "1017                Lays   30.0       27.0        46               4\n",
            "1018              Eraser    5.0        4.5        55               3\n",
            "1019                 Pen   10.0        9.0       100               3\n",
            "1020              Pencil    6.0        5.4       110               3\n",
            "1021       Pencil Cutter    5.0        4.5        49               3\n",
            "1022                Mask    5.0        4.5        90               2\n",
            "1023            Horlicks  157.0      141.3        46               6\n",
            "1024         Mustard Oil  102.0       91.8        41               5\n",
            "1025        Soyabean Oil  170.0      153.0        38               6\n",
            "1026        Tomato Sauce  123.0      110.7        58               6\n",
            "1027          Soya Sauce   45.0       40.5        57               8\n",
            "1028            Soyabean   40.0       36.0        50               8\n",
            "1029        Cocoa Powder  168.0      151.2        31               6\n",
            "\n",
            "Enter the product you want to purchase: Bread\n",
            "Enter the quantity of the product you want to purchase: 5\n"
          ]
        }
      ]
    },
    {
      "cell_type": "markdown",
      "metadata": {
        "id": "PYYv18qGr2DG"
      },
      "source": [
        "Add the total amount"
      ]
    },
    {
      "cell_type": "code",
      "metadata": {
        "id": "3jFCsuoIfvZ4"
      },
      "source": [
        "fd = open(\"sales.json\", 'a')\n",
        "fd.write(\"Total Amount: \"+str(total)+\"\\n\\n\")\n",
        "fd.close()\n"
      ],
      "execution_count": 25,
      "outputs": []
    },
    {
      "cell_type": "code",
      "metadata": {
        "id": "FWbV5UndM-UE"
      },
      "source": [
        "sold+=total\n",
        "bn+=1"
      ],
      "execution_count": 26,
      "outputs": []
    },
    {
      "cell_type": "markdown",
      "metadata": {
        "id": "vs5P8XiAZLJ5"
      },
      "source": [
        "**Run this sell to get total price of products sold**"
      ]
    },
    {
      "cell_type": "code",
      "metadata": {
        "id": "CmLsQAlGNB9o"
      },
      "source": [
        "fd = open(\"sales.json\", 'a')\n",
        "fd.write(\"Total products sold of Rs.: \"+str(sold))\n",
        "fd.close()\n"
      ],
      "execution_count": 27,
      "outputs": []
    }
  ]
}

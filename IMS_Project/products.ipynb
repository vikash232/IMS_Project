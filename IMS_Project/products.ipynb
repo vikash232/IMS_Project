{
  "nbformat": 4,
  "nbformat_minor": 0,
  "metadata": {
    "colab": {
      "name": "products.ipynb",
      "provenance": [],
      "collapsed_sections": []
    },
    "kernelspec": {
      "name": "python3",
      "display_name": "Python 3"
    },
    "language_info": {
      "name": "python"
    }
  },
  "cells": [
    {
      "cell_type": "markdown",
      "metadata": {
        "id": "NX6lQrlXR8NY"
      },
      "source": [
        ""
      ]
    },
    {
      "cell_type": "code",
      "metadata": {
        "id": "sBx8cZkuR8jr"
      },
      "source": [
        "import json\n"
      ],
      "execution_count": 1,
      "outputs": []
    },
    {
      "cell_type": "markdown",
      "metadata": {
        "id": "hx4THqHNjoI7"
      },
      "source": [
        "**Create a new json file**"
      ]
    },
    {
      "cell_type": "code",
      "metadata": {
        "id": "K4eMbkUxJZVc"
      },
      "source": [
        "fd = open(\"record.json\", 'w')"
      ],
      "execution_count": 2,
      "outputs": []
    },
    {
      "cell_type": "code",
      "metadata": {
        "id": "SsuK-YayTanh"
      },
      "source": [
        "fd.close()"
      ],
      "execution_count": 3,
      "outputs": []
    },
    {
      "cell_type": "markdown",
      "metadata": {
        "id": "bBsW6DDGkwdN"
      },
      "source": [
        "**Create a new dictionary record and add a product into it**"
      ]
    },
    {
      "cell_type": "code",
      "metadata": {
        "id": "mcLSgM-XeuWl"
      },
      "source": [
        "record = {1000:{'Product_name': \"Cadbury Dairy Milk\", 'MRP': 50.0, 'Our_Price': 50*0.9, 'Quantity': 75, 'Tax_Percentage': 5 }}"
      ],
      "execution_count": 4,
      "outputs": []
    },
    {
      "cell_type": "code",
      "metadata": {
        "id": "sTZgZVSblG9p"
      },
      "source": [
        "js=json.dumps(record)\n",
        "fd = open(\"record.json\",'w')\n",
        "fd.write(js)\n",
        "fd.close()"
      ],
      "execution_count": 5,
      "outputs": []
    },
    {
      "cell_type": "markdown",
      "metadata": {
        "id": "RLP3MHGYjw8m"
      },
      "source": [
        "**Read data from json file**"
      ]
    },
    {
      "cell_type": "code",
      "metadata": {
        "id": "q_usi0U7j7lN"
      },
      "source": [
        "fd = open(\"record.json\",'r')\n",
        "r = fd.read()\n",
        "fd.close()\n",
        "\n",
        "record = json.loads(r)"
      ],
      "execution_count": 6,
      "outputs": []
    },
    {
      "cell_type": "markdown",
      "metadata": {
        "id": "oFQKg8LgkPzH"
      },
      "source": [
        "**Add new products**"
      ]
    },
    {
      "cell_type": "code",
      "metadata": {
        "id": "XWhp54N3TrPG",
        "colab": {
          "base_uri": "https://localhost:8080/"
        },
        "outputId": "2d728843-22bb-4db3-9189-f35d67c7eabe"
      },
      "source": [
        "id = input(\"Enter id:\")\n",
        "name = input(\"Enter product name:\")\n",
        "MRP = float(input(\"Enter MRP:\"))\n",
        "quant = int(input(\"Enter quantity:\"))\n",
        "taxpercentage = int(input(\"Enter tax percentage:\"))\n",
        "record[id] = {'Product_name': name, 'MRP': MRP, 'Our_Price': MRP*0.9, 'Quantity': quant, 'Tax_Percentage': taxpercentage }\n",
        "\n",
        "js = json.dumps(record)\n",
        "\n"
      ],
      "execution_count": 10,
      "outputs": [
        {
          "name": "stdout",
          "output_type": "stream",
          "text": [
            "Enter id:1005\n",
            "Enter product name:French Fries\n",
            "Enter MRP:250\n",
            "Enter quantity:20\n",
            "Enter tax percentage:7\n"
          ]
        }
      ]
    },
    {
      "cell_type": "markdown",
      "metadata": {
        "id": "UzFghOsEkkkD"
      },
      "source": [
        "**Update the added products in record.json**"
      ]
    },
    {
      "cell_type": "code",
      "metadata": {
        "id": "WU3n6FzlnBwg"
      },
      "source": [
        "fd = open(\"record.json\",'w')\n",
        "fd.write(js)\n",
        "fd.close()"
      ],
      "execution_count": 11,
      "outputs": []
    }
  ]
}
